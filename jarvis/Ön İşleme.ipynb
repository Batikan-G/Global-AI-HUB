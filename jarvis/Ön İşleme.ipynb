{
  "nbformat": 4,
  "nbformat_minor": 0,
  "metadata": {
    "colab": {
      "provenance": [],
      "collapsed_sections": []
    },
    "kernelspec": {
      "name": "python3",
      "display_name": "Python 3"
    },
    "language_info": {
      "name": "python"
    },
    "accelerator": "GPU"
  },
  "cells": [
    {
      "cell_type": "code",
      "execution_count": 1,
      "metadata": {
        "colab": {
          "base_uri": "https://localhost:8080/"
        },
        "id": "gdhIXA37D25k",
        "outputId": "58baa025-5b46-41f8-daff-74df858d1471"
      },
      "outputs": [
        {
          "output_type": "stream",
          "name": "stdout",
          "text": [
            "Mounted at /content/drive\n"
          ]
        }
      ],
      "source": [
        "from google.colab import drive\n",
        "drive.mount(\"/content/drive\")\n",
        "import cv2\n",
        "import matplotlib.pyplot as plt\n",
        "import matplotlib.image as mpimg\n",
        "import os\n",
        "from PIL import Image"
      ]
    },
    {
      "cell_type": "code",
      "source": [
        "resimler=[]\n",
        "def OnIsleme(x):\n",
        "  folder=f\"/content/drive/MyDrive/Project/spectrograms/{x}\"\n",
        "  for filename in os.listdir(folder):\n",
        "        img = Image.open(os.path.join(folder,filename)).convert(\"L\") ##grayscaling\n",
        "        img.thumbnail((32,32)) ## Resizing\n",
        "        img.save(\"resized_\"+filename, optimize=True, quality=30)\n",
        "  images = [file for file in os.listdir() if file.endswith(('jpeg', 'png', 'jpg'))]\n",
        "  for image in images :\n",
        "    img = cv2.imread(image)\n",
        "    final_img = cv2.normalize(img,  None, 0, 1, cv2.NORM_MINMAX) ##Normalization\n",
        "    resimler.append([final_img, x])\n"
      ],
      "metadata": {
        "id": "JWEwkvpUEE9X"
      },
      "execution_count": 2,
      "outputs": []
    },
    {
      "cell_type": "code",
      "source": [
        "for i in range(0,10):\n",
        "  OnIsleme(i)"
      ],
      "metadata": {
        "id": "m4O8qsK6EYYX"
      },
      "execution_count": 3,
      "outputs": []
    },
    {
      "cell_type": "code",
      "source": [
        "x = [i[0] for i in resimler]\n",
        "y = [i[1] for i in resimler]"
      ],
      "metadata": {
        "id": "m9iZMU_JPpvo"
      },
      "execution_count": 4,
      "outputs": []
    },
    {
      "cell_type": "code",
      "source": [
        "# Import Label Encoder and train_test_split\n",
        "from sklearn.preprocessing import LabelEncoder, minmax_scale\n",
        "from sklearn.model_selection import train_test_split\n",
        "x_train, x_temporary, y_train, y_temporary = train_test_split(x, y, train_size= 0.8)\n",
        "x_val, x_test, y_val, y_test=train_test_split(x_temporary, y_temporary, train_size= 0.5)"
      ],
      "metadata": {
        "id": "MnBJAQlCPrCF"
      },
      "execution_count": 5,
      "outputs": []
    },
    {
      "cell_type": "code",
      "source": [
        "import numpy as np\n",
        "np.save(\"/content/drive/MyDrive/Project/data.npy\", x_train)\n",
        "np.save(\"/content/drive/MyDrive/Project/data2.npy\", y_train)\n",
        "np.save(\"/content/drive/MyDrive/Project/data3.npy\", x_test)\n",
        "np.save(\"/content/drive/MyDrive/Project/data4.npy\", y_test)\n",
        "np.save(\"/content/drive/MyDrive/Project/data5.npy\", x_val)\n",
        "np.save(\"/content/drive/MyDrive/Project/data6.npy\", y_val)"
      ],
      "metadata": {
        "id": "PSiGnvfekMUn"
      },
      "execution_count": 6,
      "outputs": []
    }
  ]
}