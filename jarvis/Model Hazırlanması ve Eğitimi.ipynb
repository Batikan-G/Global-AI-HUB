{
  "nbformat": 4,
  "nbformat_minor": 0,
  "metadata": {
    "colab": {
      "provenance": [],
      "collapsed_sections": []
    },
    "kernelspec": {
      "name": "python3",
      "display_name": "Python 3"
    },
    "language_info": {
      "name": "python"
    },
    "accelerator": "GPU"
  },
  "cells": [
    {
      "cell_type": "code",
      "execution_count": 3,
      "metadata": {
        "colab": {
          "base_uri": "https://localhost:8080/"
        },
        "id": "39EzKBbSIbSq",
        "outputId": "2e4740f8-92e4-41b3-b5a7-4a66713b3d0a"
      },
      "outputs": [
        {
          "output_type": "stream",
          "name": "stdout",
          "text": [
            "Drive already mounted at /content/drive; to attempt to forcibly remount, call drive.mount(\"/content/drive\", force_remount=True).\n"
          ]
        }
      ],
      "source": [
        "import pandas as pd\n",
        "from google.colab import drive\n",
        "drive.mount(\"/content/drive\")\n"
      ]
    },
    {
      "cell_type": "code",
      "source": [
        "import numpy as np\n",
        "x_train = np.load(\"/content/drive/MyDrive/Project/data.npy\")\n",
        "y_train = np.load(\"/content/drive/MyDrive/Project/data2.npy\")\n",
        "x_test = np.load(\"/content/drive/MyDrive/Project/data3.npy\")\n",
        "y_test = np.load(\"/content/drive/MyDrive/Project/data4.npy\")\n",
        "x_val = np.load(\"/content/drive/MyDrive/Project/data5.npy\")\n",
        "y_val = np.load(\"/content/drive/MyDrive/Project/data6.npy\")"
      ],
      "metadata": {
        "id": "4refOf6Muu8g"
      },
      "execution_count": 4,
      "outputs": []
    },
    {
      "cell_type": "code",
      "source": [
        "# Import TensorFlow\n",
        "import tensorflow as tf\n",
        "\n",
        "model =tf.keras.Sequential()"
      ],
      "metadata": {
        "id": "6lwi1lqPJUEb"
      },
      "execution_count": 5,
      "outputs": []
    },
    {
      "cell_type": "code",
      "source": [
        "model.add(tf.keras.layers.Conv2D(64,(3,3),1,activation=\"relu\", input_shape=(24,32,3))) #16 katmanlı, 3*3 boyutlu, 1 ise stride yani kaç piksel ilerleyeceği, relu aktivasyon fonksiyonuna sahip bu sayede non-lineer özellik kazanıyor\n",
        "model.add(tf.keras.layers.MaxPooling2D())\n",
        "\n",
        "model.add(tf.keras.layers.Conv2D(64,(3,3),1,activation=\"relu\"))\n",
        "model.add(tf.keras.layers.MaxPooling2D())\n",
        "\n",
        "model.add(tf.keras.layers.Conv2D(64,(3,3),1,activation=\"relu\"))\n",
        "model.add(tf.keras.layers.MaxPooling2D())\n",
        "\n",
        "model.add(tf.keras.layers.Flatten())\n",
        "\n",
        "model.add(tf.keras.layers.Dense(256,activation=\"relu\")) # 256 nörona sahip bir katman\n",
        "model.add(tf.keras.layers.Dense(1,activation=\"softmax\")) # İşlemler sonucunda ortaya çıkan output, 0 ya da 1 olmalı; sigmoid aktivasyon fonksiyonu kullanıyor"
      ],
      "metadata": {
        "id": "B_HJBGfuKw6K"
      },
      "execution_count": 6,
      "outputs": []
    },
    {
      "cell_type": "code",
      "source": [
        "model.compile(optimizer=\"adam\",\n",
        "              loss = \"sparse_categorical_crossentropy\",\n",
        "              metrics = [\"accuracy\"])"
      ],
      "metadata": {
        "id": "41fKOgmnNGg2"
      },
      "execution_count": 7,
      "outputs": []
    },
    {
      "cell_type": "code",
      "source": [
        "results= model.fit(x_train, y_train, epochs=50, validation_data=(x_val, y_val))"
      ],
      "metadata": {
        "colab": {
          "base_uri": "https://localhost:8080/"
        },
        "id": "YFEkt8P5wICl",
        "outputId": "5ef6ac91-29af-4fe0-9133-ead5a9d35621"
      },
      "execution_count": 8,
      "outputs": [
        {
          "output_type": "stream",
          "name": "stdout",
          "text": [
            "Epoch 1/50\n",
            "1181/1181 [==============================] - 15s 4ms/step - loss: nan - accuracy: 0.0221 - val_loss: nan - val_accuracy: 0.0172\n",
            "Epoch 2/50\n",
            "1181/1181 [==============================] - 5s 4ms/step - loss: nan - accuracy: 0.0221 - val_loss: nan - val_accuracy: 0.0172\n",
            "Epoch 3/50\n",
            "1181/1181 [==============================] - 5s 5ms/step - loss: nan - accuracy: 0.0221 - val_loss: nan - val_accuracy: 0.0172\n",
            "Epoch 4/50\n",
            "1181/1181 [==============================] - 5s 4ms/step - loss: nan - accuracy: 0.0221 - val_loss: nan - val_accuracy: 0.0172\n",
            "Epoch 5/50\n",
            "1181/1181 [==============================] - 5s 4ms/step - loss: nan - accuracy: 0.0221 - val_loss: nan - val_accuracy: 0.0172\n",
            "Epoch 6/50\n",
            "1181/1181 [==============================] - 5s 4ms/step - loss: nan - accuracy: 0.0221 - val_loss: nan - val_accuracy: 0.0172\n",
            "Epoch 7/50\n",
            "1181/1181 [==============================] - 5s 4ms/step - loss: nan - accuracy: 0.0221 - val_loss: nan - val_accuracy: 0.0172\n",
            "Epoch 8/50\n",
            "1181/1181 [==============================] - 5s 4ms/step - loss: nan - accuracy: 0.0221 - val_loss: nan - val_accuracy: 0.0172\n",
            "Epoch 9/50\n",
            "1181/1181 [==============================] - 5s 4ms/step - loss: nan - accuracy: 0.0221 - val_loss: nan - val_accuracy: 0.0172\n",
            "Epoch 10/50\n",
            "1181/1181 [==============================] - 5s 4ms/step - loss: nan - accuracy: 0.0221 - val_loss: nan - val_accuracy: 0.0172\n",
            "Epoch 11/50\n",
            "1181/1181 [==============================] - 5s 4ms/step - loss: nan - accuracy: 0.0221 - val_loss: nan - val_accuracy: 0.0172\n",
            "Epoch 12/50\n",
            "1181/1181 [==============================] - 5s 4ms/step - loss: nan - accuracy: 0.0221 - val_loss: nan - val_accuracy: 0.0172\n",
            "Epoch 13/50\n",
            "1181/1181 [==============================] - 5s 4ms/step - loss: nan - accuracy: 0.0221 - val_loss: nan - val_accuracy: 0.0172\n",
            "Epoch 14/50\n",
            "1181/1181 [==============================] - 5s 4ms/step - loss: nan - accuracy: 0.0221 - val_loss: nan - val_accuracy: 0.0172\n",
            "Epoch 15/50\n",
            "1181/1181 [==============================] - 5s 4ms/step - loss: nan - accuracy: 0.0221 - val_loss: nan - val_accuracy: 0.0172\n",
            "Epoch 16/50\n",
            "1181/1181 [==============================] - 5s 4ms/step - loss: nan - accuracy: 0.0221 - val_loss: nan - val_accuracy: 0.0172\n",
            "Epoch 17/50\n",
            "1181/1181 [==============================] - 5s 4ms/step - loss: nan - accuracy: 0.0221 - val_loss: nan - val_accuracy: 0.0172\n",
            "Epoch 18/50\n",
            "1181/1181 [==============================] - 5s 4ms/step - loss: nan - accuracy: 0.0221 - val_loss: nan - val_accuracy: 0.0172\n",
            "Epoch 19/50\n",
            "1181/1181 [==============================] - 4s 4ms/step - loss: nan - accuracy: 0.0221 - val_loss: nan - val_accuracy: 0.0172\n",
            "Epoch 20/50\n",
            "1181/1181 [==============================] - 5s 4ms/step - loss: nan - accuracy: 0.0221 - val_loss: nan - val_accuracy: 0.0172\n",
            "Epoch 21/50\n",
            "1181/1181 [==============================] - 5s 4ms/step - loss: nan - accuracy: 0.0221 - val_loss: nan - val_accuracy: 0.0172\n",
            "Epoch 22/50\n",
            "1181/1181 [==============================] - 5s 4ms/step - loss: nan - accuracy: 0.0221 - val_loss: nan - val_accuracy: 0.0172\n",
            "Epoch 23/50\n",
            "1181/1181 [==============================] - 5s 4ms/step - loss: nan - accuracy: 0.0221 - val_loss: nan - val_accuracy: 0.0172\n",
            "Epoch 24/50\n",
            "1181/1181 [==============================] - 5s 4ms/step - loss: nan - accuracy: 0.0221 - val_loss: nan - val_accuracy: 0.0172\n",
            "Epoch 25/50\n",
            "1181/1181 [==============================] - 5s 4ms/step - loss: nan - accuracy: 0.0221 - val_loss: nan - val_accuracy: 0.0172\n",
            "Epoch 26/50\n",
            "1181/1181 [==============================] - 5s 4ms/step - loss: nan - accuracy: 0.0221 - val_loss: nan - val_accuracy: 0.0172\n",
            "Epoch 27/50\n",
            "1181/1181 [==============================] - 5s 4ms/step - loss: nan - accuracy: 0.0221 - val_loss: nan - val_accuracy: 0.0172\n",
            "Epoch 28/50\n",
            "1181/1181 [==============================] - 5s 4ms/step - loss: nan - accuracy: 0.0221 - val_loss: nan - val_accuracy: 0.0172\n",
            "Epoch 29/50\n",
            "1181/1181 [==============================] - 5s 4ms/step - loss: nan - accuracy: 0.0221 - val_loss: nan - val_accuracy: 0.0172\n",
            "Epoch 30/50\n",
            "1181/1181 [==============================] - 5s 4ms/step - loss: nan - accuracy: 0.0221 - val_loss: nan - val_accuracy: 0.0172\n",
            "Epoch 31/50\n",
            "1181/1181 [==============================] - 5s 4ms/step - loss: nan - accuracy: 0.0221 - val_loss: nan - val_accuracy: 0.0172\n",
            "Epoch 32/50\n",
            "1181/1181 [==============================] - 5s 4ms/step - loss: nan - accuracy: 0.0221 - val_loss: nan - val_accuracy: 0.0172\n",
            "Epoch 33/50\n",
            "1181/1181 [==============================] - 5s 4ms/step - loss: nan - accuracy: 0.0221 - val_loss: nan - val_accuracy: 0.0172\n",
            "Epoch 34/50\n",
            "1181/1181 [==============================] - 5s 4ms/step - loss: nan - accuracy: 0.0221 - val_loss: nan - val_accuracy: 0.0172\n",
            "Epoch 35/50\n",
            "1181/1181 [==============================] - 5s 4ms/step - loss: nan - accuracy: 0.0221 - val_loss: nan - val_accuracy: 0.0172\n",
            "Epoch 36/50\n",
            "1181/1181 [==============================] - 6s 5ms/step - loss: nan - accuracy: 0.0221 - val_loss: nan - val_accuracy: 0.0172\n",
            "Epoch 37/50\n",
            "1181/1181 [==============================] - 5s 4ms/step - loss: nan - accuracy: 0.0221 - val_loss: nan - val_accuracy: 0.0172\n",
            "Epoch 38/50\n",
            "1181/1181 [==============================] - 5s 4ms/step - loss: nan - accuracy: 0.0221 - val_loss: nan - val_accuracy: 0.0172\n",
            "Epoch 39/50\n",
            "1181/1181 [==============================] - 5s 4ms/step - loss: nan - accuracy: 0.0221 - val_loss: nan - val_accuracy: 0.0172\n",
            "Epoch 40/50\n",
            "1181/1181 [==============================] - 5s 4ms/step - loss: nan - accuracy: 0.0221 - val_loss: nan - val_accuracy: 0.0172\n",
            "Epoch 41/50\n",
            "1181/1181 [==============================] - 5s 4ms/step - loss: nan - accuracy: 0.0221 - val_loss: nan - val_accuracy: 0.0172\n",
            "Epoch 42/50\n",
            "1181/1181 [==============================] - 5s 4ms/step - loss: nan - accuracy: 0.0221 - val_loss: nan - val_accuracy: 0.0172\n",
            "Epoch 43/50\n",
            "1181/1181 [==============================] - 5s 4ms/step - loss: nan - accuracy: 0.0221 - val_loss: nan - val_accuracy: 0.0172\n",
            "Epoch 44/50\n",
            "1181/1181 [==============================] - 5s 4ms/step - loss: nan - accuracy: 0.0221 - val_loss: nan - val_accuracy: 0.0172\n",
            "Epoch 45/50\n",
            "1181/1181 [==============================] - 5s 4ms/step - loss: nan - accuracy: 0.0221 - val_loss: nan - val_accuracy: 0.0172\n",
            "Epoch 46/50\n",
            "1181/1181 [==============================] - 5s 4ms/step - loss: nan - accuracy: 0.0221 - val_loss: nan - val_accuracy: 0.0172\n",
            "Epoch 47/50\n",
            "1181/1181 [==============================] - 5s 4ms/step - loss: nan - accuracy: 0.0221 - val_loss: nan - val_accuracy: 0.0172\n",
            "Epoch 48/50\n",
            "1181/1181 [==============================] - 5s 4ms/step - loss: nan - accuracy: 0.0221 - val_loss: nan - val_accuracy: 0.0172\n",
            "Epoch 49/50\n",
            "1181/1181 [==============================] - 5s 4ms/step - loss: nan - accuracy: 0.0221 - val_loss: nan - val_accuracy: 0.0172\n",
            "Epoch 50/50\n",
            "1181/1181 [==============================] - 5s 4ms/step - loss: nan - accuracy: 0.0221 - val_loss: nan - val_accuracy: 0.0172\n"
          ]
        }
      ]
    },
    {
      "cell_type": "code",
      "source": [
        "import matplotlib.pyplot as plt\n",
        "# Plot the the training loss\n",
        "plt.plot(results.history[\"loss\"], label =\"loss\")\n",
        "\n",
        "# Plot the the validation loss\n",
        "plt.plot(results.history[\"val_loss\"], label =\"val_loss\")\n",
        "\n",
        "# Name the x and y axises\n",
        "plt.xlabel(\"Epoch\")\n",
        "plt.ylabel(\"Loss\")\n",
        "\n",
        "# Put legend table\n",
        "plt.legend()\n",
        "\n",
        "# Show the plot\n",
        "plt.show()"
      ],
      "metadata": {
        "colab": {
          "base_uri": "https://localhost:8080/",
          "height": 279
        },
        "id": "Ze-akw9hwXhu",
        "outputId": "01b03734-3610-4725-8ea9-7e0e1ac0214e"
      },
      "execution_count": 9,
      "outputs": [
        {
          "output_type": "display_data",
          "data": {
            "text/plain": [
              "<Figure size 432x288 with 1 Axes>"
            ],
            "image/png": "[encoded data removed]"
          },
          "metadata": {
            "needs_background": "light"
          }
        }
      ]
    },
    {
      "cell_type": "code",
      "source": [
        "# Plot the the training accuracy\n",
        "plt.plot(results.history[\"accuracy\"], label =\"accuracy\")\n",
        "\n",
        "# Plot the the validation accuracy\n",
        "plt.plot(results.history[\"val_accuracy\"], label =\"val_accuracy\")\n",
        "\n",
        "# Name the x and y axises\n",
        "plt.xlabel(\"Epoch\")\n",
        "plt.ylabel(\"Accuracy\")\n",
        "\n",
        "# Put legend table\n",
        "plt.legend()\n",
        "\n",
        "# Show the plot\n",
        "plt.show()"
      ],
      "metadata": {
        "colab": {
          "base_uri": "https://localhost:8080/",
          "height": 279
        },
        "id": "6f5sc4vIwtcD",
        "outputId": "48ec9bf9-4724-408a-eb37-29d696d99112"
      },
      "execution_count": 10,
      "outputs": [
        {
          "output_type": "display_data",
          "data": {
            "text/plain": [
              "<Figure size 432x288 with 1 Axes>"
            ],
            "image/png": "[encoded data removed]"
          },
          "metadata": {
            "needs_background": "light"
          }
        }
      ]
    },
    {
      "cell_type": "code",
      "source": [
        "model.evaluate(x_test, y_test)"
      ],
      "metadata": {
        "colab": {
          "base_uri": "https://localhost:8080/"
        },
        "id": "oor2boIPw6KM",
        "outputId": "52c432b9-a29c-4692-ec61-1b1102b56b3b"
      },
      "execution_count": 11,
      "outputs": [
        {
          "output_type": "stream",
          "name": "stdout",
          "text": [
            "148/148 [==============================] - 1s 5ms/step - loss: nan - accuracy: 0.0182\n"
          ]
        },
        {
          "output_type": "execute_result",
          "data": {
            "text/plain": [
              "[nan, 0.01821262203156948]"
            ]
          },
          "metadata": {},
          "execution_count": 11
        }
      ]
    },
    {
      "cell_type": "code",
      "source": [
        "prediction_result=model.predict(x_test[1].reshape(1,24,32,3))\n",
        "prediction_result"
      ],
      "metadata": {
        "colab": {
          "base_uri": "https://localhost:8080/"
        },
        "id": "VaB3OAPIyXQ3",
        "outputId": "8fea0e12-c155-4584-b590-b17dcf8a346d"
      },
      "execution_count": 12,
      "outputs": [
        {
          "output_type": "execute_result",
          "data": {
            "text/plain": [
              "array([[nan]], dtype=float32)"
            ]
          },
          "metadata": {},
          "execution_count": 12
        }
      ]
    }
  ]
}